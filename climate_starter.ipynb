{
 "cells": [
  {
   "cell_type": "code",
   "execution_count": 1,
   "metadata": {},
   "outputs": [],
   "source": [
    "%matplotlib inline\n",
    "from matplotlib import style\n",
    "style.use('fivethirtyeight')\n",
    "import matplotlib.pyplot as plt"
   ]
  },
  {
   "cell_type": "code",
   "execution_count": 2,
   "metadata": {},
   "outputs": [],
   "source": [
    "import numpy as np\n",
    "import pandas as pd\n",
    "import datetime as dt"
   ]
  },
  {
   "cell_type": "markdown",
   "metadata": {},
   "source": [
    "# Reflect Tables into SQLAlchemy ORM"
   ]
  },
  {
   "cell_type": "code",
   "execution_count": 3,
   "metadata": {},
   "outputs": [],
   "source": [
    "# Python SQL toolkit and Object Relational Mapper\n",
    "import sqlalchemy\n",
    "from sqlalchemy.ext.automap import automap_base\n",
    "from sqlalchemy.orm import Session\n",
    "from sqlalchemy import create_engine, func"
   ]
  },
  {
   "cell_type": "code",
   "execution_count": 4,
   "metadata": {},
   "outputs": [],
   "source": [
    "# create engine to hawaii.sqlite\n",
    "engine = create_engine(\"sqlite:///Resources/hawaii.sqlite\")"
   ]
  },
  {
   "cell_type": "code",
   "execution_count": 5,
   "metadata": {},
   "outputs": [],
   "source": [
    "# reflect an existing database into a new model\n",
    "Base = automap_base()\n",
    "\n",
    "# reflect the tables\n",
    "Base.prepare(engine, reflect= True)"
   ]
  },
  {
   "cell_type": "code",
   "execution_count": 6,
   "metadata": {},
   "outputs": [
    {
     "data": {
      "text/plain": [
       "['measurement', 'station']"
      ]
     },
     "execution_count": 6,
     "metadata": {},
     "output_type": "execute_result"
    }
   ],
   "source": [
    "# View all of the classes that automap found\n",
    "Base.classes.keys()"
   ]
  },
  {
   "cell_type": "code",
   "execution_count": 7,
   "metadata": {},
   "outputs": [],
   "source": [
    "# Save references to each table\n",
    "Measurement = Base.classes.measurement\n",
    "Station = Base.classes.station"
   ]
  },
  {
   "cell_type": "code",
   "execution_count": 8,
   "metadata": {},
   "outputs": [],
   "source": [
    "# Create our session (link) from Python to the DB\n",
    "session = Session(engine)"
   ]
  },
  {
   "cell_type": "markdown",
   "metadata": {},
   "source": [
    "# Exploratory Precipitation Analysis"
   ]
  },
  {
   "cell_type": "code",
   "execution_count": 9,
   "metadata": {},
   "outputs": [
    {
     "name": "stdout",
     "output_type": "stream",
     "text": [
      "('2017-08-23',)\n"
     ]
    }
   ],
   "source": [
    "# Find the most recent date in the data set.\n",
    "most_recent_date = session.query(Measurement.date).\\\n",
    "    order_by(Measurement.date.desc()).first()\n",
    "\n",
    "print(most_recent_date)"
   ]
  },
  {
   "cell_type": "code",
   "execution_count": 10,
   "metadata": {},
   "outputs": [
    {
     "name": "stdout",
     "output_type": "stream",
     "text": [
      "2017-08-23\n"
     ]
    }
   ],
   "source": [
    "# Design a query to retrieve the last 12 months of precipitation data and plot the results. \n",
    "# Starting from the most recent data point in the database. \n",
    "precipitation_data = session.query(Measurement.date, Measurement.prcp).\\\n",
    "    filter(Measurement.date > '2016-08-22').\\\n",
    "    order_by(Measurement.date).all() \n",
    "\n",
    "# Calculate the date one year from the last date in data set.\n",
    "# Calculate the last date in the dataset \n",
    "last_date = session.query(func.max(Measurement.date)).scalar()\n",
    "print(last_date)\n"
   ]
  },
  {
   "cell_type": "code",
   "execution_count": 35,
   "metadata": {},
   "outputs": [
    {
     "name": "stdout",
     "output_type": "stream",
     "text": [
      "2016-08-23 00:00:00\n"
     ]
    }
   ],
   "source": [
    "# date one year from the last recorded date\n",
    "latest_date = dt.datetime.strptime(last_date, '%Y-%m-%d')\n",
    "one_year_later = latest_date + dt.timedelta(days=-365)\n",
    "print(one_year_later)\n"
   ]
  },
  {
   "cell_type": "code",
   "execution_count": 12,
   "metadata": {},
   "outputs": [
    {
     "name": "stdout",
     "output_type": "stream",
     "text": [
      "2016-08-23 00:00:00\n"
     ]
    }
   ],
   "source": [
    "# date one year from the last recorded date\n",
    "latest_date_1 = dt.datetime.strptime(last_date, '%Y-%m-%d')\n",
    "one_year_prior = latest_date + dt.timedelta(days=-365)\n",
    "print(one_year_prior)\n"
   ]
  },
  {
   "cell_type": "code",
   "execution_count": 32,
   "metadata": {},
   "outputs": [
    {
     "data": {
      "text/html": [
       "<div>\n",
       "<style scoped>\n",
       "    .dataframe tbody tr th:only-of-type {\n",
       "        vertical-align: middle;\n",
       "    }\n",
       "\n",
       "    .dataframe tbody tr th {\n",
       "        vertical-align: top;\n",
       "    }\n",
       "\n",
       "    .dataframe thead th {\n",
       "        text-align: right;\n",
       "    }\n",
       "</style>\n",
       "<table border=\"1\" class=\"dataframe\">\n",
       "  <thead>\n",
       "    <tr style=\"text-align: right;\">\n",
       "      <th></th>\n",
       "      <th>prcp</th>\n",
       "    </tr>\n",
       "    <tr>\n",
       "      <th>date</th>\n",
       "      <th></th>\n",
       "    </tr>\n",
       "  </thead>\n",
       "  <tbody>\n",
       "    <tr>\n",
       "      <th>2016-08-23</th>\n",
       "      <td>0.00</td>\n",
       "    </tr>\n",
       "    <tr>\n",
       "      <th>2016-08-23</th>\n",
       "      <td>0.15</td>\n",
       "    </tr>\n",
       "    <tr>\n",
       "      <th>2016-08-23</th>\n",
       "      <td>0.05</td>\n",
       "    </tr>\n",
       "    <tr>\n",
       "      <th>2016-08-23</th>\n",
       "      <td>NaN</td>\n",
       "    </tr>\n",
       "    <tr>\n",
       "      <th>2016-08-23</th>\n",
       "      <td>0.02</td>\n",
       "    </tr>\n",
       "    <tr>\n",
       "      <th>...</th>\n",
       "      <td>...</td>\n",
       "    </tr>\n",
       "    <tr>\n",
       "      <th>2017-08-22</th>\n",
       "      <td>0.50</td>\n",
       "    </tr>\n",
       "    <tr>\n",
       "      <th>2017-08-23</th>\n",
       "      <td>0.00</td>\n",
       "    </tr>\n",
       "    <tr>\n",
       "      <th>2017-08-23</th>\n",
       "      <td>0.00</td>\n",
       "    </tr>\n",
       "    <tr>\n",
       "      <th>2017-08-23</th>\n",
       "      <td>0.08</td>\n",
       "    </tr>\n",
       "    <tr>\n",
       "      <th>2017-08-23</th>\n",
       "      <td>0.45</td>\n",
       "    </tr>\n",
       "  </tbody>\n",
       "</table>\n",
       "<p>2230 rows × 1 columns</p>\n",
       "</div>"
      ],
      "text/plain": [
       "            prcp\n",
       "date            \n",
       "2016-08-23  0.00\n",
       "2016-08-23  0.15\n",
       "2016-08-23  0.05\n",
       "2016-08-23   NaN\n",
       "2016-08-23  0.02\n",
       "...          ...\n",
       "2017-08-22  0.50\n",
       "2017-08-23  0.00\n",
       "2017-08-23  0.00\n",
       "2017-08-23  0.08\n",
       "2017-08-23  0.45\n",
       "\n",
       "[2230 rows x 1 columns]"
      ]
     },
     "execution_count": 32,
     "metadata": {},
     "output_type": "execute_result"
    }
   ],
   "source": [
    "# Perform a query to retrieve the data and precipitation scores\n",
    "# Save the query results as a Pandas DataFrame and set the index to the date column\n",
    "# Sort the dataframe by date\n",
    "pcp_1 = session.query(Measurement.date, Measurement.prcp).\\\n",
    "    filter(Measurement.date > '2016-08-22').\\\n",
    "    order_by(Measurement.date).all()\n",
    "\n",
    "pcp_1_df = pd.DataFrame(pcp_1)\n",
    "pcp_1_df_final_df = pcp_1_df.set_index(\"date\")\n",
    "pcp_1_df_final_df"
   ]
  },
  {
   "cell_type": "code",
   "execution_count": 31,
   "metadata": {},
   "outputs": [
    {
     "data": {
      "text/plain": [
       "{'2016-08-23': 0.7,\n",
       " '2016-08-24': 1.45,\n",
       " '2016-08-25': 0.11,\n",
       " '2016-08-26': 0.01,\n",
       " '2016-08-27': None,\n",
       " '2016-08-28': 2.07,\n",
       " '2016-08-29': 0.9,\n",
       " '2016-08-30': 0.05,\n",
       " '2016-08-31': 2.46,\n",
       " '2016-09-01': 0.01,\n",
       " '2016-09-02': 0.03,\n",
       " '2016-09-03': 1.0,\n",
       " '2016-09-04': 0.44,\n",
       " '2016-09-05': 0.18,\n",
       " '2016-09-06': 1.0,\n",
       " '2016-09-07': 1.35,\n",
       " '2016-09-08': 0.15,\n",
       " '2016-09-09': 0.35,\n",
       " '2016-09-10': 1.16,\n",
       " '2016-09-11': 0.6,\n",
       " '2016-09-12': 1.04,\n",
       " '2016-09-13': 1.2,\n",
       " '2016-09-14': 6.7,\n",
       " '2016-09-15': 3.35,\n",
       " '2016-09-16': 0.61,\n",
       " '2016-09-17': 0.23,\n",
       " '2016-09-18': 0.42,\n",
       " '2016-09-19': 0.25,\n",
       " '2016-09-20': 0.43,\n",
       " '2016-09-21': 1.02,\n",
       " '2016-09-22': 0.75,\n",
       " '2016-09-23': 0.33,\n",
       " '2016-09-24': 0.27,\n",
       " '2016-09-25': 0.04,\n",
       " '2016-09-26': 1.02,\n",
       " '2016-09-27': 1.0,\n",
       " '2016-09-28': 0.05,\n",
       " '2016-09-29': 1.49,\n",
       " '2016-09-30': 0.38,\n",
       " '2016-10-01': 1.02,\n",
       " '2016-10-02': 0.61,\n",
       " '2016-10-03': 0.46,\n",
       " '2016-10-04': 3.46,\n",
       " '2016-10-05': 0.81,\n",
       " '2016-10-06': 0.04,\n",
       " '2016-10-07': 0.01,\n",
       " '2016-10-08': 0.04,\n",
       " '2016-10-09': 0.0,\n",
       " '2016-10-10': 0.0,\n",
       " '2016-10-11': 0.35,\n",
       " '2016-10-12': 0.02,\n",
       " '2016-10-13': 0.06,\n",
       " '2016-10-14': 0.0,\n",
       " '2016-10-15': 0.33,\n",
       " '2016-10-16': 0.0,\n",
       " '2016-10-17': 0.38,\n",
       " '2016-10-18': 0.48,\n",
       " '2016-10-19': 0.0,\n",
       " '2016-10-20': 1.0,\n",
       " '2016-10-21': 0.09,\n",
       " '2016-10-22': 1.37,\n",
       " '2016-10-23': 0.24,\n",
       " '2016-10-24': 0.7,\n",
       " '2016-10-25': 0.4,\n",
       " '2016-10-26': 0.0,\n",
       " '2016-10-27': 1.25,\n",
       " '2016-10-28': 0.37,\n",
       " '2016-10-29': 0.25,\n",
       " '2016-10-30': 0.95,\n",
       " '2016-10-31': 1.35,\n",
       " '2016-11-01': 0.09,\n",
       " '2016-11-02': 0.04,\n",
       " '2016-11-03': 0.02,\n",
       " '2016-11-04': 0.06,\n",
       " '2016-11-05': 0.38,\n",
       " '2016-11-06': 0.05,\n",
       " '2016-11-07': 0.05,\n",
       " '2016-11-08': 0.53,\n",
       " '2016-11-09': 0.04,\n",
       " '2016-11-10': 0.01,\n",
       " '2016-11-11': 0.0,\n",
       " '2016-11-12': 0.0,\n",
       " '2016-11-13': 0.0,\n",
       " '2016-11-14': 0.02,\n",
       " '2016-11-15': 0.05,\n",
       " '2016-11-16': 0.91,\n",
       " '2016-11-17': 0.02,\n",
       " '2016-11-18': 0.0,\n",
       " '2016-11-19': 0.11,\n",
       " '2016-11-20': None,\n",
       " '2016-11-21': 2.87,\n",
       " '2016-11-22': 2.11,\n",
       " '2016-11-23': 0.22,\n",
       " '2016-11-24': 0.72,\n",
       " '2016-11-25': 1.03,\n",
       " '2016-11-26': 0.3,\n",
       " '2016-11-27': 0.29,\n",
       " '2016-11-28': 0.69,\n",
       " '2016-11-29': 0.2,\n",
       " '2016-11-30': 0.79,\n",
       " '2016-12-01': 0.72,\n",
       " '2016-12-02': 1.27,\n",
       " '2016-12-03': 1.62,\n",
       " '2016-12-04': 0.31,\n",
       " '2016-12-05': 1.6,\n",
       " '2016-12-06': 0.0,\n",
       " '2016-12-07': 0.02,\n",
       " '2016-12-08': 0.03,\n",
       " '2016-12-09': 0.42,\n",
       " '2016-12-10': 0.04,\n",
       " '2016-12-11': 0.13,\n",
       " '2016-12-12': 0.01,\n",
       " '2016-12-13': 0.09,\n",
       " '2016-12-14': 0.33,\n",
       " '2016-12-15': 0.03,\n",
       " '2016-12-16': 0.0,\n",
       " '2016-12-17': 0.07,\n",
       " '2016-12-18': None,\n",
       " '2016-12-19': 0.15,\n",
       " '2016-12-20': 0.0,\n",
       " '2016-12-21': 0.55,\n",
       " '2016-12-22': 1.24,\n",
       " '2016-12-23': 0.83,\n",
       " '2016-12-24': 1.08,\n",
       " '2016-12-25': 0.38,\n",
       " '2016-12-26': 1.48,\n",
       " '2016-12-27': 0.14,\n",
       " '2016-12-28': 0.14,\n",
       " '2016-12-29': 1.03,\n",
       " '2016-12-30': 2.37,\n",
       " '2016-12-31': 0.9,\n",
       " '2017-01-01': 0.03,\n",
       " '2017-01-02': 0.0,\n",
       " '2017-01-03': 0.0,\n",
       " '2017-01-04': 0.0,\n",
       " '2017-01-05': 0.47,\n",
       " '2017-01-06': 0.1,\n",
       " '2017-01-07': 0.0,\n",
       " '2017-01-08': 0.03,\n",
       " '2017-01-09': 0.0,\n",
       " '2017-01-10': 0.0,\n",
       " '2017-01-11': 0.0,\n",
       " '2017-01-12': 0.0,\n",
       " '2017-01-13': 0.0,\n",
       " '2017-01-14': 0.0,\n",
       " '2017-01-15': 0.01,\n",
       " '2017-01-16': 0.0,\n",
       " '2017-01-17': 0.0,\n",
       " '2017-01-18': 0.07,\n",
       " '2017-01-19': 0.0,\n",
       " '2017-01-20': 0.0,\n",
       " '2017-01-21': 0.08,\n",
       " '2017-01-22': 0.72,\n",
       " '2017-01-23': 0.85,\n",
       " '2017-01-24': 1.85,\n",
       " '2017-01-25': 2.64,\n",
       " '2017-01-26': 0.1,\n",
       " '2017-01-27': 0.03,\n",
       " '2017-01-28': 0.0,\n",
       " '2017-01-29': 0.55,\n",
       " '2017-01-30': 0.0,\n",
       " '2017-01-31': 0.0,\n",
       " '2017-02-01': 0.0,\n",
       " '2017-02-02': 0.0,\n",
       " '2017-02-03': 0.0,\n",
       " '2017-02-04': None,\n",
       " '2017-02-05': 0.0,\n",
       " '2017-02-06': 0.0,\n",
       " '2017-02-07': 1.79,\n",
       " '2017-02-08': 0.0,\n",
       " '2017-02-09': 0.0,\n",
       " '2017-02-10': 0.0,\n",
       " '2017-02-11': 0.73,\n",
       " '2017-02-12': 1.83,\n",
       " '2017-02-13': 0.0,\n",
       " '2017-02-14': 0.01,\n",
       " '2017-02-15': 0.07,\n",
       " '2017-02-16': 0.13,\n",
       " '2017-02-17': 0.13,\n",
       " '2017-02-18': None,\n",
       " '2017-02-19': 0.1,\n",
       " '2017-02-20': 0.0,\n",
       " '2017-02-21': 0.07,\n",
       " '2017-02-22': 0.32,\n",
       " '2017-02-23': 0.0,\n",
       " '2017-02-24': 0.0,\n",
       " '2017-02-25': 0.12,\n",
       " '2017-02-26': 0.0,\n",
       " '2017-02-27': 0.0,\n",
       " '2017-02-28': 0.58,\n",
       " '2017-03-01': 2.0,\n",
       " '2017-03-02': 0.58,\n",
       " '2017-03-03': 0.56,\n",
       " '2017-03-04': 0.0,\n",
       " '2017-03-05': 0.35,\n",
       " '2017-03-06': 0.0,\n",
       " '2017-03-07': 0.0,\n",
       " '2017-03-08': 0.0,\n",
       " '2017-03-09': 0.01,\n",
       " '2017-03-10': 0.0,\n",
       " '2017-03-11': 0.0,\n",
       " '2017-03-12': 0.0,\n",
       " '2017-03-13': None,\n",
       " '2017-03-14': 0.0,\n",
       " '2017-03-15': 0.0,\n",
       " '2017-03-16': 0.0,\n",
       " '2017-03-17': 0.12,\n",
       " '2017-03-18': None,\n",
       " '2017-03-19': 0.0,\n",
       " '2017-03-20': 0.0,\n",
       " '2017-03-21': 0.0,\n",
       " '2017-03-22': 0.0,\n",
       " '2017-03-23': 0.03,\n",
       " '2017-03-24': 0.17,\n",
       " '2017-03-25': 0.48,\n",
       " '2017-03-26': 0.0,\n",
       " '2017-03-27': 0.0,\n",
       " '2017-03-28': 0.68,\n",
       " '2017-03-29': 0.07,\n",
       " '2017-03-30': 0.04,\n",
       " '2017-03-31': None,\n",
       " '2017-04-01': 0.2,\n",
       " '2017-04-02': 0.0,\n",
       " '2017-04-03': 0.23,\n",
       " '2017-04-04': 0.02,\n",
       " '2017-04-05': 0.45,\n",
       " '2017-04-06': 0.0,\n",
       " '2017-04-07': 0.0,\n",
       " '2017-04-08': None,\n",
       " '2017-04-09': 0.0,\n",
       " '2017-04-10': 0.0,\n",
       " '2017-04-11': 0.25,\n",
       " '2017-04-12': 0.65,\n",
       " '2017-04-13': 0.23,\n",
       " '2017-04-14': 2.82,\n",
       " '2017-04-15': 0.9,\n",
       " '2017-04-16': 0.11,\n",
       " '2017-04-17': 1.3,\n",
       " '2017-04-18': 0.98,\n",
       " '2017-04-19': 0.14,\n",
       " '2017-04-20': 0.0,\n",
       " '2017-04-21': 1.84,\n",
       " '2017-04-22': 1.35,\n",
       " '2017-04-23': 0.35,\n",
       " '2017-04-24': 0.05,\n",
       " '2017-04-25': 0.0,\n",
       " '2017-04-26': 0.22,\n",
       " '2017-04-27': 0.11,\n",
       " '2017-04-28': 0.79,\n",
       " '2017-04-29': 0.0,\n",
       " '2017-04-30': 0.8,\n",
       " '2017-05-01': 0.25,\n",
       " '2017-05-02': 0.0,\n",
       " '2017-05-03': 0.01,\n",
       " '2017-05-04': None,\n",
       " '2017-05-05': 0.1,\n",
       " '2017-05-06': 0.0,\n",
       " '2017-05-07': 0.03,\n",
       " '2017-05-08': 1.11,\n",
       " '2017-05-09': 0.23,\n",
       " '2017-05-10': 0.55,\n",
       " '2017-05-11': 0.44,\n",
       " '2017-05-12': 0.1,\n",
       " '2017-05-13': 0.1,\n",
       " '2017-05-14': 1.0,\n",
       " '2017-05-15': 0.6,\n",
       " '2017-05-16': 0.3,\n",
       " '2017-05-17': 0.06,\n",
       " '2017-05-18': 0.0,\n",
       " '2017-05-19': 0.01,\n",
       " '2017-05-20': None,\n",
       " '2017-05-21': 0.0,\n",
       " '2017-05-22': 0.3,\n",
       " '2017-05-23': 0.44,\n",
       " '2017-05-24': 2.17,\n",
       " '2017-05-25': 0.88,\n",
       " '2017-05-26': 0.0,\n",
       " '2017-05-27': 0.5,\n",
       " '2017-05-28': 0.0,\n",
       " '2017-05-29': 0.4,\n",
       " '2017-05-30': None,\n",
       " '2017-05-31': 0.25,\n",
       " '2017-06-01': 0.01,\n",
       " '2017-06-02': 0.09,\n",
       " '2017-06-03': None,\n",
       " '2017-06-04': 0.82,\n",
       " '2017-06-05': 0.01,\n",
       " '2017-06-06': 0.0,\n",
       " '2017-06-07': 0.01,\n",
       " '2017-06-08': 0.0,\n",
       " '2017-06-09': 0.02,\n",
       " '2017-06-10': None,\n",
       " '2017-06-11': 0.7,\n",
       " '2017-06-12': 0.81,\n",
       " '2017-06-13': 0.65,\n",
       " '2017-06-14': 0.81,\n",
       " '2017-06-15': 1.69,\n",
       " '2017-06-16': 0.1,\n",
       " '2017-06-17': 0.1,\n",
       " '2017-06-18': 0.7,\n",
       " '2017-06-19': 0.4,\n",
       " '2017-06-20': 0.31,\n",
       " '2017-06-21': 0.3,\n",
       " '2017-06-22': 0.28,\n",
       " '2017-06-23': 0.5,\n",
       " '2017-06-24': 0.22,\n",
       " '2017-06-25': 0.5,\n",
       " '2017-06-26': 0.02,\n",
       " '2017-06-27': 0.1,\n",
       " '2017-06-28': 0.02,\n",
       " '2017-06-29': 0.04,\n",
       " '2017-06-30': 0.2,\n",
       " '2017-07-01': 0.1,\n",
       " '2017-07-02': 0.5,\n",
       " '2017-07-03': 0.4,\n",
       " '2017-07-04': 0.0,\n",
       " '2017-07-05': 0.0,\n",
       " '2017-07-06': 0.02,\n",
       " '2017-07-07': 0.3,\n",
       " '2017-07-08': 0.02,\n",
       " '2017-07-09': 0.0,\n",
       " '2017-07-10': 0.02,\n",
       " '2017-07-11': 0.0,\n",
       " '2017-07-12': 0.05,\n",
       " '2017-07-13': 0.68,\n",
       " '2017-07-14': 0.68,\n",
       " '2017-07-15': 0.1,\n",
       " '2017-07-16': 0.5,\n",
       " '2017-07-17': 0.39,\n",
       " '2017-07-18': 2.4,\n",
       " '2017-07-19': 0.27,\n",
       " '2017-07-20': 0.7,\n",
       " '2017-07-21': 0.1,\n",
       " '2017-07-22': 4.0,\n",
       " '2017-07-23': 0.8,\n",
       " '2017-07-24': 0.84,\n",
       " '2017-07-25': 0.3,\n",
       " '2017-07-26': 0.3,\n",
       " '2017-07-27': 0.0,\n",
       " '2017-07-28': 0.4,\n",
       " '2017-07-29': 0.3,\n",
       " '2017-07-30': 0.3,\n",
       " '2017-07-31': 0.0,\n",
       " '2017-08-01': None,\n",
       " '2017-08-02': 0.25,\n",
       " '2017-08-03': 0.06,\n",
       " '2017-08-04': 0.0,\n",
       " '2017-08-05': None,\n",
       " '2017-08-06': None,\n",
       " '2017-08-07': 0.05,\n",
       " '2017-08-08': 0.34,\n",
       " '2017-08-09': 0.15,\n",
       " '2017-08-10': 0.07,\n",
       " '2017-08-11': None,\n",
       " '2017-08-12': 0.14,\n",
       " '2017-08-13': None,\n",
       " '2017-08-14': 0.22,\n",
       " '2017-08-15': 0.42,\n",
       " '2017-08-16': 0.42,\n",
       " '2017-08-17': 0.13,\n",
       " '2017-08-18': None,\n",
       " '2017-08-19': 0.09,\n",
       " '2017-08-20': None,\n",
       " '2017-08-21': 0.56,\n",
       " '2017-08-22': 0.5,\n",
       " '2017-08-23': 0.45}"
      ]
     },
     "execution_count": 31,
     "metadata": {},
     "output_type": "execute_result"
    }
   ],
   "source": [
    "#Create Dictionary for prcp data\n",
    "pcp_1_dict = {Date:Prcp for Date,Prcp in pcp_1}\n",
    "pcp_1_dict"
   ]
  },
  {
   "cell_type": "code",
   "execution_count": 14,
   "metadata": {},
   "outputs": [
    {
     "data": {
      "image/png": "[encoded data removed]",
      "text/plain": [
       "<Figure size 640x480 with 1 Axes>"
      ]
     },
     "metadata": {},
     "output_type": "display_data"
    },
    {
     "data": {
      "text/plain": [
       "<function matplotlib.pyplot.savefig(*args, **kwargs)>"
      ]
     },
     "execution_count": 14,
     "metadata": {},
     "output_type": "execute_result"
    },
    {
     "data": {
      "text/plain": [
       "<Figure size 640x480 with 0 Axes>"
      ]
     },
     "metadata": {},
     "output_type": "display_data"
    }
   ],
   "source": [
    "# Use Pandas Plotting with Matplotlib to plot the data\n",
    "pcp_1_df_final_df.plot()\n",
    "\n",
    "# Set Labels & Title\n",
    "plt.xlabel('Date', fontsize=15)\n",
    "plt.ylabel(\"Inches\",fontsize=15)\n",
    "plt.title(f\"Precipitation(inches)in Honolulu Hawaii 2016-2017\",fontsize=10, fontweight = 'bold')\n",
    "plt.yticks(size=15)\n",
    "\n",
    "# Show plot\n",
    "plt.show()\n",
    "plt.tight_layout()\n",
    "\n",
    "# save fig to png \n",
    "plt.savefig"
   ]
  },
  {
   "cell_type": "code",
   "execution_count": 15,
   "metadata": {},
   "outputs": [
    {
     "data": {
      "text/html": [
       "<div>\n",
       "<style scoped>\n",
       "    .dataframe tbody tr th:only-of-type {\n",
       "        vertical-align: middle;\n",
       "    }\n",
       "\n",
       "    .dataframe tbody tr th {\n",
       "        vertical-align: top;\n",
       "    }\n",
       "\n",
       "    .dataframe thead th {\n",
       "        text-align: right;\n",
       "    }\n",
       "</style>\n",
       "<table border=\"1\" class=\"dataframe\">\n",
       "  <thead>\n",
       "    <tr style=\"text-align: right;\">\n",
       "      <th></th>\n",
       "      <th>prcp</th>\n",
       "    </tr>\n",
       "  </thead>\n",
       "  <tbody>\n",
       "    <tr>\n",
       "      <th>count</th>\n",
       "      <td>2021.000000</td>\n",
       "    </tr>\n",
       "    <tr>\n",
       "      <th>mean</th>\n",
       "      <td>0.177279</td>\n",
       "    </tr>\n",
       "    <tr>\n",
       "      <th>std</th>\n",
       "      <td>0.461190</td>\n",
       "    </tr>\n",
       "    <tr>\n",
       "      <th>min</th>\n",
       "      <td>0.000000</td>\n",
       "    </tr>\n",
       "    <tr>\n",
       "      <th>25%</th>\n",
       "      <td>0.000000</td>\n",
       "    </tr>\n",
       "    <tr>\n",
       "      <th>50%</th>\n",
       "      <td>0.020000</td>\n",
       "    </tr>\n",
       "    <tr>\n",
       "      <th>75%</th>\n",
       "      <td>0.130000</td>\n",
       "    </tr>\n",
       "    <tr>\n",
       "      <th>max</th>\n",
       "      <td>6.700000</td>\n",
       "    </tr>\n",
       "  </tbody>\n",
       "</table>\n",
       "</div>"
      ],
      "text/plain": [
       "              prcp\n",
       "count  2021.000000\n",
       "mean      0.177279\n",
       "std       0.461190\n",
       "min       0.000000\n",
       "25%       0.000000\n",
       "50%       0.020000\n",
       "75%       0.130000\n",
       "max       6.700000"
      ]
     },
     "execution_count": 15,
     "metadata": {},
     "output_type": "execute_result"
    }
   ],
   "source": [
    "# Use Pandas to calcualte the summary statistics for the precipitation data\n",
    "summary = pcp_1_df_final_df.describe()\n",
    "summary"
   ]
  },
  {
   "cell_type": "markdown",
   "metadata": {},
   "source": [
    "# Exploratory Station Analysis"
   ]
  },
  {
   "cell_type": "code",
   "execution_count": 16,
   "metadata": {},
   "outputs": [
    {
     "name": "stdout",
     "output_type": "stream",
     "text": [
      "The total Number of Stations = 9\n"
     ]
    }
   ],
   "source": [
    "# Design a query to calculate the total number stations in the dataset\n",
    "stations_count = session.query(Station).count()\n",
    "print(f\"The total Number of Stations = {stations_count}\")"
   ]
  },
  {
   "cell_type": "code",
   "execution_count": 29,
   "metadata": {},
   "outputs": [
    {
     "data": {
      "text/plain": [
       "['USC00519397',\n",
       " 'USC00513117',\n",
       " 'USC00514830',\n",
       " 'USC00517948',\n",
       " 'USC00518838',\n",
       " 'USC00519523',\n",
       " 'USC00519281',\n",
       " 'USC00511918',\n",
       " 'USC00516128']"
      ]
     },
     "execution_count": 29,
     "metadata": {},
     "output_type": "execute_result"
    }
   ],
   "source": [
    "stations_1 = session.query(Station.station).all()\n",
    "stations_1_list = list(np.ravel(stations_1))\n"
   ]
  },
  {
   "cell_type": "code",
   "execution_count": 33,
   "metadata": {},
   "outputs": [
    {
     "name": "stdout",
     "output_type": "stream",
     "text": [
      "The most active stations are:\n",
      "[('USC00519281', 'WAIHEE 837.5, HI US', 2772), ('USC00519397', 'WAIKIKI 717.2, HI US', 2724), ('USC00513117', 'KANEOHE 838.1, HI US', 2709), ('USC00519523', 'WAIMANALO EXPERIMENTAL FARM, HI US', 2669), ('USC00516128', 'MANOA LYON ARBO 785.2, HI US', 2612), ('USC00514830', 'KUALOA RANCH HEADQUARTERS 886.9, HI US', 2202), ('USC00511918', 'HONOLULU OBSERVATORY 702.2, HI US', 1979), ('USC00517948', 'PEARL CITY, HI US', 1372), ('USC00518838', 'UPPER WAHIAWA 874.3, HI US', 511)]\n"
     ]
    },
    {
     "data": {
      "text/plain": [
       "list"
      ]
     },
     "execution_count": 33,
     "metadata": {},
     "output_type": "execute_result"
    }
   ],
   "source": [
    "# Design a query to find the most active stations (i.e. what stations have the most rows?)\n",
    "# List the stations and the counts in descending order.\n",
    "active_stations = (\n",
    "    session.query(Measurement.station, Station.name, func.count(Measurement.id))\n",
    "    .filter(Measurement.station == Station.station)\n",
    "    .group_by(Measurement.station)\n",
    "    .order_by(func.count(Measurement.id).desc())\n",
    "    .all()\n",
    ")\n",
    "print(\"The most active stations are:\")\n",
    "print(active_stations)\n",
    "type(active_stations)"
   ]
  },
  {
   "cell_type": "code",
   "execution_count": 18,
   "metadata": {},
   "outputs": [
    {
     "name": "stdout",
     "output_type": "stream",
     "text": [
      "('USC00519281', 54.0, 85.0, 71.66378066378067)\n"
     ]
    }
   ],
   "source": [
    "# Using the most active station id from the previous query, calculate the lowest, highest, and average temperature.\n",
    "sel = [Measurement.station,\n",
    "       func.min(Measurement.tobs), \n",
    "       func.max(Measurement.tobs),\n",
    "       func.avg(Measurement.tobs)]\n",
    "temperature_summary = session.query(*sel).\\\n",
    "        filter(Measurement.station == 'USC00519281').\\\n",
    "        group_by(Measurement.station)\n",
    "for station in temperature_summary:\n",
    "    print(station)"
   ]
  },
  {
   "cell_type": "code",
   "execution_count": 19,
   "metadata": {},
   "outputs": [],
   "source": [
    "# Using the most active station id\n",
    "# Query the last 12 months of temperature observation data for this station and plot the results as a histogram\n",
    "sel = [Measurement.date, \n",
    "       Measurement.tobs]\n",
    "temperature_data_USC00519281 = session.query(*sel).\\\n",
    "        filter(func.strftime(Measurement.date) >= one_year_prior, Measurement.station == 'USC00519281').\\\n",
    "        group_by(Measurement.date).\\\n",
    "        order_by(Measurement.date).all()"
   ]
  },
  {
   "cell_type": "code",
   "execution_count": 20,
   "metadata": {},
   "outputs": [
    {
     "data": {
      "text/html": [
       "<div>\n",
       "<style scoped>\n",
       "    .dataframe tbody tr th:only-of-type {\n",
       "        vertical-align: middle;\n",
       "    }\n",
       "\n",
       "    .dataframe tbody tr th {\n",
       "        vertical-align: top;\n",
       "    }\n",
       "\n",
       "    .dataframe thead th {\n",
       "        text-align: right;\n",
       "    }\n",
       "</style>\n",
       "<table border=\"1\" class=\"dataframe\">\n",
       "  <thead>\n",
       "    <tr style=\"text-align: right;\">\n",
       "      <th></th>\n",
       "      <th>Measurement Date</th>\n",
       "      <th>Temperature</th>\n",
       "    </tr>\n",
       "  </thead>\n",
       "  <tbody>\n",
       "    <tr>\n",
       "      <th>0</th>\n",
       "      <td>2016-08-24</td>\n",
       "      <td>77.0</td>\n",
       "    </tr>\n",
       "    <tr>\n",
       "      <th>1</th>\n",
       "      <td>2016-08-25</td>\n",
       "      <td>80.0</td>\n",
       "    </tr>\n",
       "    <tr>\n",
       "      <th>2</th>\n",
       "      <td>2016-08-26</td>\n",
       "      <td>80.0</td>\n",
       "    </tr>\n",
       "    <tr>\n",
       "      <th>3</th>\n",
       "      <td>2016-08-27</td>\n",
       "      <td>75.0</td>\n",
       "    </tr>\n",
       "    <tr>\n",
       "      <th>4</th>\n",
       "      <td>2016-08-28</td>\n",
       "      <td>73.0</td>\n",
       "    </tr>\n",
       "  </tbody>\n",
       "</table>\n",
       "</div>"
      ],
      "text/plain": [
       "  Measurement Date  Temperature\n",
       "0       2016-08-24         77.0\n",
       "1       2016-08-25         80.0\n",
       "2       2016-08-26         80.0\n",
       "3       2016-08-27         75.0\n",
       "4       2016-08-28         73.0"
      ]
     },
     "execution_count": 20,
     "metadata": {},
     "output_type": "execute_result"
    }
   ],
   "source": [
    "# create a Dataframe with the resuts of the above query \n",
    "temperature_data_USC00519281_df = pd.DataFrame(temperature_data_USC00519281, columns=['Measurement Date', 'Temperature'])\n",
    "temperature_data_USC00519281_df.head()"
   ]
  },
  {
   "cell_type": "code",
   "execution_count": 21,
   "metadata": {},
   "outputs": [
    {
     "data": {
      "image/png": "[encoded data removed]",
      "text/plain": [
       "<Figure size 640x480 with 1 Axes>"
      ]
     },
     "metadata": {},
     "output_type": "display_data"
    }
   ],
   "source": [
    "# Creating Histogram \n",
    "plt.hist(temperature_data_USC00519281_df['Temperature'],bins=12, density=False)\n",
    "plt.xlabel(\"Temperature (Fahrenheit)\")\n",
    "plt.ylabel(\"Frequency\")\n",
    "plt.title(\"Temperature Observations Data (USC00519281)\")\n",
    "plt.figsize=(12,10)\n",
    "plt.savefig('Temperature_USC00519281.png',bbox_inches='tight')\n",
    "plt.show()"
   ]
  },
  {
   "cell_type": "markdown",
   "metadata": {},
   "source": [
    "# Close session"
   ]
  },
  {
   "cell_type": "code",
   "execution_count": 22,
   "metadata": {},
   "outputs": [],
   "source": [
    "# Close Session\n",
    "session.close()"
   ]
  },
  {
   "cell_type": "code",
   "execution_count": null,
   "metadata": {},
   "outputs": [],
   "source": []
  }
 ],
 "metadata": {
  "anaconda-cloud": {},
  "kernel_info": {
   "name": "python3"
  },
  "kernelspec": {
   "display_name": "base",
   "language": "python",
   "name": "python3"
  },
  "language_info": {
   "codemirror_mode": {
    "name": "ipython",
    "version": 3
   },
   "file_extension": ".py",
   "mimetype": "text/x-python",
   "name": "python",
   "nbconvert_exporter": "python",
   "pygments_lexer": "ipython3",
   "version": "3.9.13"
  },
  "nteract": {
   "version": "0.12.3"
  },
  "varInspector": {
   "cols": {
    "lenName": 16,
    "lenType": 16,
    "lenVar": 40
   },
   "kernels_config": {
    "python": {
     "delete_cmd_postfix": "",
     "delete_cmd_prefix": "del ",
     "library": "var_list.py",
     "varRefreshCmd": "print(var_dic_list())"
    },
    "r": {
     "delete_cmd_postfix": ") ",
     "delete_cmd_prefix": "rm(",
     "library": "var_list.r",
     "varRefreshCmd": "cat(var_dic_list()) "
    }
   },
   "types_to_exclude": [
    "module",
    "function",
    "builtin_function_or_method",
    "instance",
    "_Feature"
   ],
   "window_display": false
  },
  "vscode": {
   "interpreter": {
    "hash": "330263a10f5edf982d7bad5118f61e4f269c60c67c9f362a463cefe42c4dc77a"
   }
  }
 },
 "nbformat": 4,
 "nbformat_minor": 2
}
